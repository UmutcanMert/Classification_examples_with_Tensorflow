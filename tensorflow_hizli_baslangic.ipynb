{
  "nbformat": 4,
  "nbformat_minor": 0,
  "metadata": {
    "colab": {
      "provenance": [],
      "gpuType": "T4"
    },
    "kernelspec": {
      "name": "python3",
      "display_name": "Python 3"
    },
    "language_info": {
      "name": "python"
    },
    "accelerator": "GPU"
  },
  "cells": [
    {
      "cell_type": "code",
      "execution_count": 10,
      "metadata": {
        "colab": {
          "base_uri": "https://localhost:8080/"
        },
        "id": "-462qioCcXAJ",
        "outputId": "9e033c9f-ec88-4af3-d3bd-a60b918b7b9c"
      },
      "outputs": [
        {
          "output_type": "stream",
          "name": "stdout",
          "text": [
            "TensorFlow version: 2.15.0\n"
          ]
        }
      ],
      "source": [
        "import tensorflow as tf\n",
        "print(\"TensorFlow version:\", tf.__version__)"
      ]
    },
    {
      "cell_type": "code",
      "source": [
        "mnist = tf.keras.datasets.mnist\n",
        "(x_train, y_train), (x_test, y_test) = mnist.load_data()\n",
        "\n",
        "x_train, x_test = x_train / 255.0, x_test / 255.0\n",
        "x_test[1]"
      ],
      "metadata": {
        "colab": {
          "base_uri": "https://localhost:8080/"
        },
        "id": "D4rWaYEYcreg",
        "outputId": "091432b9-545f-4732-9798-42fe714fef11"
      },
      "execution_count": 24,
      "outputs": [
        {
          "output_type": "execute_result",
          "data": {
            "text/plain": [
              "array([[0.        , 0.        , 0.        , 0.        , 0.        ,\n",
              "        0.        , 0.        , 0.        , 0.        , 0.        ,\n",
              "        0.        , 0.        , 0.        , 0.        , 0.        ,\n",
              "        0.        , 0.        , 0.        , 0.        , 0.        ,\n",
              "        0.        , 0.        , 0.        , 0.        , 0.        ,\n",
              "        0.        , 0.        , 0.        ],\n",
              "       [0.        , 0.        , 0.        , 0.        , 0.        ,\n",
              "        0.        , 0.        , 0.        , 0.        , 0.        ,\n",
              "        0.        , 0.        , 0.        , 0.        , 0.        ,\n",
              "        0.        , 0.        , 0.        , 0.        , 0.        ,\n",
              "        0.        , 0.        , 0.        , 0.        , 0.        ,\n",
              "        0.        , 0.        , 0.        ],\n",
              "       [0.        , 0.        , 0.        , 0.        , 0.        ,\n",
              "        0.        , 0.        , 0.        , 0.        , 0.        ,\n",
              "        0.        , 0.        , 0.        , 0.        , 0.        ,\n",
              "        0.        , 0.        , 0.        , 0.        , 0.        ,\n",
              "        0.        , 0.        , 0.        , 0.        , 0.        ,\n",
              "        0.        , 0.        , 0.        ],\n",
              "       [0.        , 0.        , 0.        , 0.        , 0.        ,\n",
              "        0.        , 0.        , 0.        , 0.        , 0.        ,\n",
              "        0.45490196, 0.49019608, 0.67058824, 1.        , 1.        ,\n",
              "        0.58823529, 0.36470588, 0.        , 0.        , 0.        ,\n",
              "        0.        , 0.        , 0.        , 0.        , 0.        ,\n",
              "        0.        , 0.        , 0.        ],\n",
              "       [0.        , 0.        , 0.        , 0.        , 0.        ,\n",
              "        0.        , 0.        , 0.        , 0.        , 0.6627451 ,\n",
              "        0.99215686, 0.99215686, 0.99215686, 0.99215686, 0.99215686,\n",
              "        0.99215686, 0.85490196, 0.11764706, 0.        , 0.        ,\n",
              "        0.        , 0.        , 0.        , 0.        , 0.        ,\n",
              "        0.        , 0.        , 0.        ],\n",
              "       [0.        , 0.        , 0.        , 0.        , 0.        ,\n",
              "        0.        , 0.        , 0.        , 0.6627451 , 0.99215686,\n",
              "        0.99215686, 0.99215686, 0.83529412, 0.55686275, 0.69019608,\n",
              "        0.99215686, 0.99215686, 0.47843137, 0.        , 0.        ,\n",
              "        0.        , 0.        , 0.        , 0.        , 0.        ,\n",
              "        0.        , 0.        , 0.        ],\n",
              "       [0.        , 0.        , 0.        , 0.        , 0.        ,\n",
              "        0.        , 0.        , 0.20392157, 0.98039216, 0.99215686,\n",
              "        0.82352941, 0.1254902 , 0.04705882, 0.        , 0.02352941,\n",
              "        0.80784314, 0.99215686, 0.54901961, 0.        , 0.        ,\n",
              "        0.        , 0.        , 0.        , 0.        , 0.        ,\n",
              "        0.        , 0.        , 0.        ],\n",
              "       [0.        , 0.        , 0.        , 0.        , 0.        ,\n",
              "        0.        , 0.        , 0.30196078, 0.98431373, 0.82352941,\n",
              "        0.09803922, 0.        , 0.        , 0.        , 0.47843137,\n",
              "        0.97254902, 0.99215686, 0.25490196, 0.        , 0.        ,\n",
              "        0.        , 0.        , 0.        , 0.        , 0.        ,\n",
              "        0.        , 0.        , 0.        ],\n",
              "       [0.        , 0.        , 0.        , 0.        , 0.        ,\n",
              "        0.        , 0.        , 0.        , 0.12156863, 0.07058824,\n",
              "        0.        , 0.        , 0.        , 0.        , 0.81960784,\n",
              "        0.99215686, 0.99215686, 0.25490196, 0.        , 0.        ,\n",
              "        0.        , 0.        , 0.        , 0.        , 0.        ,\n",
              "        0.        , 0.        , 0.        ],\n",
              "       [0.        , 0.        , 0.        , 0.        , 0.        ,\n",
              "        0.        , 0.        , 0.        , 0.        , 0.        ,\n",
              "        0.        , 0.        , 0.        , 0.45882353, 0.96862745,\n",
              "        0.99215686, 0.77647059, 0.03921569, 0.        , 0.        ,\n",
              "        0.        , 0.        , 0.        , 0.        , 0.        ,\n",
              "        0.        , 0.        , 0.        ],\n",
              "       [0.        , 0.        , 0.        , 0.        , 0.        ,\n",
              "        0.        , 0.        , 0.        , 0.        , 0.        ,\n",
              "        0.        , 0.        , 0.29803922, 0.96862745, 0.99215686,\n",
              "        0.90588235, 0.24705882, 0.        , 0.        , 0.        ,\n",
              "        0.        , 0.        , 0.        , 0.        , 0.        ,\n",
              "        0.        , 0.        , 0.        ],\n",
              "       [0.        , 0.        , 0.        , 0.        , 0.        ,\n",
              "        0.        , 0.        , 0.        , 0.        , 0.        ,\n",
              "        0.        , 0.        , 0.50196078, 0.99215686, 0.99215686,\n",
              "        0.56470588, 0.        , 0.        , 0.        , 0.        ,\n",
              "        0.        , 0.        , 0.        , 0.        , 0.        ,\n",
              "        0.        , 0.        , 0.        ],\n",
              "       [0.        , 0.        , 0.        , 0.        , 0.        ,\n",
              "        0.        , 0.        , 0.        , 0.        , 0.        ,\n",
              "        0.        , 0.69019608, 0.96470588, 0.99215686, 0.62352941,\n",
              "        0.04705882, 0.        , 0.        , 0.        , 0.        ,\n",
              "        0.        , 0.        , 0.        , 0.        , 0.        ,\n",
              "        0.        , 0.        , 0.        ],\n",
              "       [0.        , 0.        , 0.        , 0.        , 0.        ,\n",
              "        0.        , 0.        , 0.        , 0.        , 0.        ,\n",
              "        0.09803922, 0.91764706, 0.99215686, 0.91372549, 0.1372549 ,\n",
              "        0.        , 0.        , 0.        , 0.        , 0.        ,\n",
              "        0.        , 0.        , 0.        , 0.        , 0.        ,\n",
              "        0.        , 0.        , 0.        ],\n",
              "       [0.        , 0.        , 0.        , 0.        , 0.        ,\n",
              "        0.        , 0.        , 0.        , 0.        , 0.        ,\n",
              "        0.77647059, 0.99215686, 0.99215686, 0.55294118, 0.        ,\n",
              "        0.        , 0.        , 0.        , 0.        , 0.        ,\n",
              "        0.        , 0.        , 0.        , 0.        , 0.        ,\n",
              "        0.        , 0.        , 0.        ],\n",
              "       [0.        , 0.        , 0.        , 0.        , 0.        ,\n",
              "        0.        , 0.        , 0.        , 0.        , 0.30588235,\n",
              "        0.97254902, 0.99215686, 0.74117647, 0.04705882, 0.        ,\n",
              "        0.        , 0.        , 0.        , 0.        , 0.        ,\n",
              "        0.        , 0.        , 0.        , 0.        , 0.        ,\n",
              "        0.        , 0.        , 0.        ],\n",
              "       [0.        , 0.        , 0.        , 0.        , 0.        ,\n",
              "        0.        , 0.        , 0.        , 0.0745098 , 0.78431373,\n",
              "        0.99215686, 0.99215686, 0.55294118, 0.        , 0.        ,\n",
              "        0.        , 0.        , 0.        , 0.        , 0.        ,\n",
              "        0.        , 0.        , 0.        , 0.        , 0.        ,\n",
              "        0.        , 0.        , 0.        ],\n",
              "       [0.        , 0.        , 0.        , 0.        , 0.        ,\n",
              "        0.        , 0.        , 0.        , 0.5254902 , 0.99215686,\n",
              "        0.99215686, 0.67843137, 0.04705882, 0.        , 0.        ,\n",
              "        0.        , 0.        , 0.        , 0.        , 0.        ,\n",
              "        0.        , 0.        , 0.        , 0.        , 0.        ,\n",
              "        0.        , 0.        , 0.        ],\n",
              "       [0.        , 0.        , 0.        , 0.        , 0.        ,\n",
              "        0.        , 0.        , 0.        , 0.97254902, 0.99215686,\n",
              "        0.99215686, 0.09803922, 0.        , 0.        , 0.        ,\n",
              "        0.        , 0.        , 0.        , 0.        , 0.        ,\n",
              "        0.        , 0.        , 0.        , 0.        , 0.        ,\n",
              "        0.        , 0.        , 0.        ],\n",
              "       [0.        , 0.        , 0.        , 0.        , 0.        ,\n",
              "        0.        , 0.        , 0.        , 0.97254902, 0.99215686,\n",
              "        0.99215686, 0.16862745, 0.07843137, 0.07843137, 0.07843137,\n",
              "        0.07843137, 0.01960784, 0.        , 0.01960784, 0.07843137,\n",
              "        0.07843137, 0.14509804, 0.58823529, 0.58823529, 0.58823529,\n",
              "        0.57647059, 0.03921569, 0.        ],\n",
              "       [0.        , 0.        , 0.        , 0.        , 0.        ,\n",
              "        0.        , 0.        , 0.        , 0.97254902, 0.99215686,\n",
              "        0.99215686, 0.99215686, 0.99215686, 0.99215686, 0.99215686,\n",
              "        0.99215686, 0.65882353, 0.56078431, 0.65098039, 0.99215686,\n",
              "        0.99215686, 0.99215686, 0.99215686, 0.99215686, 0.99215686,\n",
              "        0.99215686, 0.48235294, 0.        ],\n",
              "       [0.        , 0.        , 0.        , 0.        , 0.        ,\n",
              "        0.        , 0.        , 0.        , 0.68235294, 0.99215686,\n",
              "        0.99215686, 0.99215686, 0.99215686, 0.99215686, 0.99215686,\n",
              "        0.99215686, 0.99215686, 0.99215686, 0.99215686, 0.99215686,\n",
              "        0.97647059, 0.96862745, 0.96862745, 0.6627451 , 0.45882353,\n",
              "        0.45882353, 0.22352941, 0.        ],\n",
              "       [0.        , 0.        , 0.        , 0.        , 0.        ,\n",
              "        0.        , 0.        , 0.        , 0.        , 0.4627451 ,\n",
              "        0.48235294, 0.48235294, 0.48235294, 0.65098039, 0.99215686,\n",
              "        0.99215686, 0.99215686, 0.60784314, 0.48235294, 0.48235294,\n",
              "        0.16078431, 0.        , 0.        , 0.        , 0.        ,\n",
              "        0.        , 0.        , 0.        ],\n",
              "       [0.        , 0.        , 0.        , 0.        , 0.        ,\n",
              "        0.        , 0.        , 0.        , 0.        , 0.        ,\n",
              "        0.        , 0.        , 0.        , 0.        , 0.        ,\n",
              "        0.        , 0.        , 0.        , 0.        , 0.        ,\n",
              "        0.        , 0.        , 0.        , 0.        , 0.        ,\n",
              "        0.        , 0.        , 0.        ],\n",
              "       [0.        , 0.        , 0.        , 0.        , 0.        ,\n",
              "        0.        , 0.        , 0.        , 0.        , 0.        ,\n",
              "        0.        , 0.        , 0.        , 0.        , 0.        ,\n",
              "        0.        , 0.        , 0.        , 0.        , 0.        ,\n",
              "        0.        , 0.        , 0.        , 0.        , 0.        ,\n",
              "        0.        , 0.        , 0.        ],\n",
              "       [0.        , 0.        , 0.        , 0.        , 0.        ,\n",
              "        0.        , 0.        , 0.        , 0.        , 0.        ,\n",
              "        0.        , 0.        , 0.        , 0.        , 0.        ,\n",
              "        0.        , 0.        , 0.        , 0.        , 0.        ,\n",
              "        0.        , 0.        , 0.        , 0.        , 0.        ,\n",
              "        0.        , 0.        , 0.        ],\n",
              "       [0.        , 0.        , 0.        , 0.        , 0.        ,\n",
              "        0.        , 0.        , 0.        , 0.        , 0.        ,\n",
              "        0.        , 0.        , 0.        , 0.        , 0.        ,\n",
              "        0.        , 0.        , 0.        , 0.        , 0.        ,\n",
              "        0.        , 0.        , 0.        , 0.        , 0.        ,\n",
              "        0.        , 0.        , 0.        ],\n",
              "       [0.        , 0.        , 0.        , 0.        , 0.        ,\n",
              "        0.        , 0.        , 0.        , 0.        , 0.        ,\n",
              "        0.        , 0.        , 0.        , 0.        , 0.        ,\n",
              "        0.        , 0.        , 0.        , 0.        , 0.        ,\n",
              "        0.        , 0.        , 0.        , 0.        , 0.        ,\n",
              "        0.        , 0.        , 0.        ]])"
            ]
          },
          "metadata": {},
          "execution_count": 24
        }
      ]
    },
    {
      "cell_type": "code",
      "source": [
        "x_train.shape # (60000, 28, 28)\n",
        "x_test.shape"
      ],
      "metadata": {
        "colab": {
          "base_uri": "https://localhost:8080/"
        },
        "id": "L4bKqB-kgMF-",
        "outputId": "4e460725-2473-46e4-8d32-7710693e4ecb"
      },
      "execution_count": 21,
      "outputs": [
        {
          "output_type": "execute_result",
          "data": {
            "text/plain": [
              "(10000, 28, 28)"
            ]
          },
          "metadata": {},
          "execution_count": 21
        }
      ]
    },
    {
      "cell_type": "code",
      "source": [
        "\"\"\"\n",
        "MNIST veri kümesindeki rakamların 0'dan 9'a kadar 10 farklı sınıfa ait olduğunu biliyoruz çünkü MNIST veri kümesi,\n",
        "el yazısı rakamlarının siyah-beyaz görüntülerini içerir ve bu rakamlar 0'dan 9'a kadar olan rakamlardır.\n",
        "\n",
        "Her bir rakam, bir sınıfı temsil eder. Örneğin, 0 rakamı bir sınıfı, 1 rakamı bir sınıfı, ve böyle devam eder.\n",
        "Dolayısıyla, tanınacak olan her rakam için bir sınıf bulunmaktadır.\n",
        "\n",
        "Modelin çıktı katmanında 10 nöron bulunmasının nedeni budur: her bir nöron, bir sınıfı temsil eder ve modelin çıktısını,\n",
        "verilen görüntünün hangi sınıfa ait olduğunu tahmin etmek için kullanır. Bu nedenle, sınıflandırma problemlerinde genellikle\n",
        "çıktı katmanında sınıf sayısı kadar nöron bulunur. MNIST veri kümesi için bu sayı 10'dur çünkü 10 farklı rakam sınıfı vardır.\n",
        "\"\"\"\n",
        "\"\"\"\n",
        "tf.keras.layers.Dense(128, activation='relu'): İkinci katman, 128 nörona sahip bir yoğun (dense) katmandır. \"relu\" aktivasyon\n",
        "fonksiyonu bu katmanda kullanılır. ReLU, girişin negatif olduğu durumlarda sıfır çıktı verirken, pozitif değerlerde giriş değerini\n",
        "doğrudan çıktı olarak verir.\n",
        "\"\"\""
      ],
      "metadata": {
        "id": "Hpspybt-jlpZ"
      },
      "execution_count": null,
      "outputs": []
    },
    {
      "cell_type": "code",
      "source": [
        "model = tf.keras.models.Sequential([\n",
        "  tf.keras.layers.Flatten(input_shape=(28, 28)), #resimler 28*28 o yuzden\n",
        "  tf.keras.layers.Dense(128, activation='relu'),\n",
        "  tf.keras.layers.Dropout(0.2),\n",
        "  tf.keras.layers.Dense(10)\n",
        "])"
      ],
      "metadata": {
        "id": "KcEpyz3dj5UQ"
      },
      "execution_count": 3,
      "outputs": []
    },
    {
      "cell_type": "code",
      "source": [
        "\"\"\"\n",
        "x_train[:1]: x_train veri kümesinin ilk örneğini seçer. Bu, genellikle bir görüntüyü temsil eder. Modelin tahmin yapacağı veri bu görüntüdür.\n",
        "model(x_train[:1]): Model, seçilen bu örneği giriş olarak alır ve tahmin yapar. model burada oluşturulan sinir ağı modelini temsil eder.\n",
        "Bu, TensorFlow tarafından tanımlanan bir modeldir. Model, giriş verisini alır, katmanlardan geçirir ve sonuçta bir çıktı üretir.\n",
        "\n",
        ".numpy(): Modelin çıktılarını bir NumPy dizisine dönüştürür. Bu, çıktıları daha kolay işlemek ve analiz etmek için yapılır.\n",
        "\"\"\"\n",
        "# Her örnek için model, her sınıf için bir tane olmak üzere bir logit vektörü veya log- ord skorları döndürür.\n",
        "\n",
        "predictions = model(x_train[:1]).numpy()\n",
        "predictions"
      ],
      "metadata": {
        "colab": {
          "base_uri": "https://localhost:8080/"
        },
        "id": "y3-V4v-Nm0-N",
        "outputId": "211ec639-3eea-4971-ff9e-ea197b0149b3"
      },
      "execution_count": 13,
      "outputs": [
        {
          "output_type": "execute_result",
          "data": {
            "text/plain": [
              "array([[-0.2766955 ,  0.04812229,  0.24878395,  0.7426739 ,  0.05020103,\n",
              "        -0.08325442,  0.17418106,  0.15569311,  0.40246803, -0.27405155]],\n",
              "      dtype=float32)"
            ]
          },
          "metadata": {},
          "execution_count": 13
        }
      ]
    },
    {
      "cell_type": "code",
      "source": [
        "# tf.nn.softmax işlevi, bu logitleri her sınıf için olasılıklara dönüştürür:\n",
        "tf.nn.softmax(predictions).numpy()"
      ],
      "metadata": {
        "colab": {
          "base_uri": "https://localhost:8080/"
        },
        "id": "3njt8azioFny",
        "outputId": "06e3f40e-f11c-4393-c37b-bb0574a7e072"
      },
      "execution_count": 14,
      "outputs": [
        {
          "output_type": "execute_result",
          "data": {
            "text/plain": [
              "array([[0.06438294, 0.08909172, 0.10888889, 0.17843385, 0.08927711,\n",
              "        0.07812341, 0.10106108, 0.09920984, 0.12697779, 0.06455338]],\n",
              "      dtype=float32)"
            ]
          },
          "metadata": {},
          "execution_count": 14
        }
      ]
    },
    {
      "cell_type": "code",
      "source": [
        "\"\"\"\n",
        "  Bir logit vektörü ve bir True indeksi alan ve her örnek için bir skaler kayıp döndüren losses.SparseCategoricalCrossentropy\n",
        "  kullanarak eğitim için bir kayıp işlevi tanımlayın.\n",
        "\"\"\"\n",
        "\n",
        "\"\"\"\n",
        "Bu kayıp, gerçek sınıfın negatif log olasılığına eşittir: Model doğru sınıftan eminse kayıp sıfırdır.\n",
        "Bu eğitimsiz model rastgeleye yakın olasılıklar verir (her sınıf için 1/10), bu nedenle ilk kayıp -tf.math.log(1/10) ~= 2.3 yakın olmalıdır.\n",
        "\"\"\"\n",
        "\n",
        "\"\"\"\n",
        "Softmax Aktivasyonu ile Uyumluluk: Softmax aktivasyon fonksiyonu ile birlikte kullanıldığında, SparseCategoricalCrossentropy kayıp\n",
        "fonksiyonu, modelin çıktılarını olasılık dağılımlarına dönüştürür. Bu, modelin doğru sınıflandırma kararları almasını kolaylaştırır.\n",
        "\"\"\"\n",
        "\n",
        "loss_fn = tf.keras.losses.SparseCategoricalCrossentropy(from_logits=True)"
      ],
      "metadata": {
        "id": "ku8OzwSw3Hrx"
      },
      "execution_count": 15,
      "outputs": []
    },
    {
      "cell_type": "code",
      "source": [
        "loss_fn(y_train[:1], predictions).numpy()"
      ],
      "metadata": {
        "colab": {
          "base_uri": "https://localhost:8080/"
        },
        "id": "fkI71vQn5ZVZ",
        "outputId": "41a7cd2a-a97b-40bc-9da3-3ebd0314a683"
      },
      "execution_count": 18,
      "outputs": [
        {
          "output_type": "execute_result",
          "data": {
            "text/plain": [
              "2.5494657"
            ]
          },
          "metadata": {},
          "execution_count": 18
        }
      ]
    },
    {
      "cell_type": "code",
      "source": [
        "\"\"\"Model.compile, TensorFlow'da bir modeli derlemek için kullanılan bir yöntemdir. Bu yöntem, modelin optimize ediciyi (optimizer),\n",
        "kayıp fonksiyonunu (loss function) ve metrikleri (metrics) belirtmenizi sağlar. İşte model.compile ile belirtilen parametrelerin\n",
        "açıklamaları:\n",
        "\n",
        "optimizer='adam': Bu parametre, modelin optimize ediciyi belirler. Optimize edici, modelin eğitim sırasında parametrelerini\n",
        "güncellemek için kullanılan algoritmayı ifade eder. 'adam', adaptif moment tahminini (Adaptive Moment Estimation) kullanan yaygın\n",
        "bir optimize edici türüdür. Adam, genellikle derin öğrenme modellerinde iyi performans gösterir.\n",
        "\n",
        "loss=loss_fn: Bu parametre, modelin kayıp fonksiyonunu belirler. Kayıp fonksiyonu, modelin tahminlerinin gerçek etiketlere ne kadar\n",
        "uygun olduğunu ölçer. Daha önce belirlediğimiz loss_fn fonksiyonu, SparseCategoricalCrossentropy kayıp fonksiyonudur ve sınıflandırma\n",
        "problemleri için uygun bir seçenektir.\n",
        "\n",
        "metrics=['accuracy']: Bu parametre, modelin değerlendirilecek metrikleri belirler. Metrikler, modelin performansını ölçmek için\n",
        "kullanılan ölçütlerdir. 'accuracy', modelin doğruluk oranını ifade eder, yani doğru olarak sınıflandırılan örneklerin oranını gösterir.\n",
        "Modelin eğitimi sırasında doğruluk metriğini izlemek, modelin performansını değerlendirmenin önemli bir yoludur.\"\"\""
      ],
      "metadata": {
        "id": "BzGsPQKZ63zd"
      },
      "execution_count": null,
      "outputs": []
    },
    {
      "cell_type": "code",
      "source": [
        "model.compile(optimizer='adam',\n",
        "              loss=loss_fn,\n",
        "              metrics=['accuracy'] )\n"
      ],
      "metadata": {
        "id": "R71qYxFd7AY5"
      },
      "execution_count": 19,
      "outputs": []
    },
    {
      "cell_type": "code",
      "source": [
        "\"\"\"\n",
        "x_train: Eğitim veri seti özelliklerini (giriş verilerini) temsil eder.\n",
        "y_train: Eğitim veri seti etiketlerini (hedef çıktıları) temsil eder.\n",
        "epochs: Modelin eğitim veri setini kaç kez geçeceğini belirler.\n",
        "\n",
        "epochs, bir derin öğrenme modelinin eğitim sırasında tam bir eğitim veri setini kaç kez geçeceğini belirten bir parametredir.\n",
        "\"\"\"\n",
        "model.fit(x_train, y_train, epochs=5)"
      ],
      "metadata": {
        "colab": {
          "base_uri": "https://localhost:8080/"
        },
        "id": "LB7kVu177ily",
        "outputId": "bde97f79-9792-4eb1-a7c9-a3fbd8f81b31"
      },
      "execution_count": 22,
      "outputs": [
        {
          "output_type": "stream",
          "name": "stdout",
          "text": [
            "Epoch 1/5\n",
            "1875/1875 [==============================] - 7s 2ms/step - loss: 0.2946 - accuracy: 0.9144\n",
            "Epoch 2/5\n",
            "1875/1875 [==============================] - 5s 3ms/step - loss: 0.1415 - accuracy: 0.9578\n",
            "Epoch 3/5\n",
            "1875/1875 [==============================] - 4s 2ms/step - loss: 0.1052 - accuracy: 0.9677\n",
            "Epoch 4/5\n",
            "1875/1875 [==============================] - 4s 2ms/step - loss: 0.0854 - accuracy: 0.9737\n",
            "Epoch 5/5\n",
            "1875/1875 [==============================] - 5s 3ms/step - loss: 0.0714 - accuracy: 0.9774\n"
          ]
        },
        {
          "output_type": "execute_result",
          "data": {
            "text/plain": [
              "<keras.src.callbacks.History at 0x7a38c015f700>"
            ]
          },
          "metadata": {},
          "execution_count": 22
        }
      ]
    },
    {
      "cell_type": "code",
      "source": [
        "\"\"\"\n",
        "x_test: Değerlendirilecek test veri seti özelliklerini (giriş verilerini) temsil eder.\n",
        "y_test: Değerlendirilecek test veri seti etiketlerini (hedef çıktıları) temsil eder.\n",
        "verbose: Değerlendirme sırasında çıktıların ne kadar detaylı olacağını belirler. 0, sessiz modu; 1, ilerleme çubuğunu gösterir; 2,\n",
        "her epoch sonunda bir satır çıktı verir.\n",
        "\"\"\"\n",
        "model.evaluate(x_test, y_test, verbose=2)\n"
      ],
      "metadata": {
        "colab": {
          "base_uri": "https://localhost:8080/"
        },
        "id": "XhuioEVl8nQL",
        "outputId": "f41ca987-5bda-46b0-f414-beea8973d1c7"
      },
      "execution_count": 23,
      "outputs": [
        {
          "output_type": "stream",
          "name": "stdout",
          "text": [
            "313/313 - 1s - loss: 0.0752 - accuracy: 0.9766 - 648ms/epoch - 2ms/step\n"
          ]
        },
        {
          "output_type": "execute_result",
          "data": {
            "text/plain": [
              "[0.0752449557185173, 0.9765999913215637]"
            ]
          },
          "metadata": {},
          "execution_count": 23
        }
      ]
    },
    {
      "cell_type": "code",
      "source": [
        "\"\"\"\n",
        "tf.keras.Sequential: Bir dizi katmanı birbirine bağlamak için kullanılan bir Keras modeli sınıfıdır. Burada,\n",
        "yeni bir model oluşturulurken bu sınıf kullanılıyor.\n",
        "\n",
        "model: Daha önce eğitilmiş olan model adlı model, bu yeni oluşturulan modelin ilk katmanı olarak ekleniyor.\n",
        "tf.keras.layers.Softmax(): Softmax aktivasyon fonksiyonunu uygulayan bir katman oluşturuluyor. Bu katman, modelin\n",
        "çıktılarını olasılık dağılımlarına dönüştürmek için kullanılır. Softmax fonksiyonu, her bir sınıf için bir olasılık değeri üretir,\n",
        "böylece toplam olasılıkların toplamı 1'e eşit olur.\n",
        "\"\"\"\n",
        "probability_model = tf.keras.models.Sequential([\n",
        "    model,\n",
        "    tf.keras.layers.Softmax()\n",
        "])\n"
      ],
      "metadata": {
        "id": "sqbx6o6Y9bHU"
      },
      "execution_count": 27,
      "outputs": []
    },
    {
      "cell_type": "code",
      "source": [
        "probability_model(x_test[:5])\n"
      ],
      "metadata": {
        "colab": {
          "base_uri": "https://localhost:8080/"
        },
        "id": "av65LmnL-Keo",
        "outputId": "3c8444e8-cef3-4fcd-a122-f47071001bcb"
      },
      "execution_count": 30,
      "outputs": [
        {
          "output_type": "execute_result",
          "data": {
            "text/plain": [
              "array([[1.00846933e-07, 1.11819949e-08, 3.37211532e-05, 1.42521589e-04,\n",
              "        2.27120447e-10, 9.43186365e-08, 4.19243199e-13, 9.99819815e-01,\n",
              "        2.38370390e-07, 3.49590232e-06],\n",
              "       [1.55088475e-08, 4.17104638e-05, 9.99901056e-01, 4.92848376e-05,\n",
              "        9.60399969e-17, 2.18075206e-06, 1.34368435e-07, 6.70439073e-13,\n",
              "        5.76191178e-06, 7.24976262e-15],\n",
              "       [7.94517348e-07, 9.97713089e-01, 1.04731465e-04, 7.67417951e-05,\n",
              "        1.31100009e-04, 3.67659231e-05, 2.58619657e-05, 1.35312532e-03,\n",
              "        5.47991716e-04, 9.66210337e-06],\n",
              "       [9.99654889e-01, 1.47740495e-08, 8.57925988e-05, 2.68685585e-06,\n",
              "        2.13296880e-06, 4.20142851e-06, 2.26779608e-04, 5.72382532e-06,\n",
              "        1.03391167e-05, 7.54658458e-06],\n",
              "       [8.82279323e-07, 1.49896522e-08, 4.18197169e-06, 1.12909888e-07,\n",
              "        9.91998136e-01, 8.90854679e-08, 1.55861653e-06, 4.29336287e-05,\n",
              "        1.64352954e-07, 7.95190502e-03]], dtype=float32)"
            ]
          },
          "metadata": {},
          "execution_count": 30
        }
      ]
    }
  ]
}