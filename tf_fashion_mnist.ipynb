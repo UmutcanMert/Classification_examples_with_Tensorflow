{
  "nbformat": 4,
  "nbformat_minor": 0,
  "metadata": {
    "colab": {
      "provenance": []
    },
    "kernelspec": {
      "name": "python3",
      "display_name": "Python 3"
    },
    "language_info": {
      "name": "python"
    }
  },
  "cells": [
    {
      "cell_type": "code",
      "execution_count": 18,
      "metadata": {
        "colab": {
          "base_uri": "https://localhost:8080/"
        },
        "id": "o2xxTiFWoe7l",
        "outputId": "9081c271-91ea-4d50-f74d-43ad47bcfc5a"
      },
      "outputs": [
        {
          "output_type": "stream",
          "name": "stdout",
          "text": [
            "2.15.0\n"
          ]
        }
      ],
      "source": [
        "import tensorflow as tf\n",
        "import numpy as np\n",
        "import matplotlib.pyplot as plt\n",
        "\n",
        "print(tf.__version__)"
      ]
    },
    {
      "cell_type": "code",
      "source": [
        "fashion_mnist = tf.keras.datasets.fashion_mnist\n",
        "\n",
        "# Veri kümesini yüklemek, dört NumPy dizisi döndürür:\n",
        "(train_images, train_labels) , (test_images, test_labels) = fashion_mnist.load_data()"
      ],
      "metadata": {
        "id": "JjHYroFSoxxC"
      },
      "execution_count": 19,
      "outputs": []
    },
    {
      "cell_type": "code",
      "source": [
        "\"\"\"Etiket\tSınıf\n",
        "0\ttişört/üst\n",
        "1\tpantolon\n",
        "2\tKenara çekmek\n",
        "3\tElbise\n",
        "4\tKaban\n",
        "5\tSandalet\n",
        "6\tGömlek\n",
        "7\tSpor ayakkabı\n",
        "8\tÇanta\n",
        "9\tBilek boyu bot\"\"\""
      ],
      "metadata": {
        "colab": {
          "base_uri": "https://localhost:8080/",
          "height": 53
        },
        "id": "dGA40tKzpZWC",
        "outputId": "3c633328-3fde-4ff7-be4a-f609e411c2f5"
      },
      "execution_count": 20,
      "outputs": [
        {
          "output_type": "execute_result",
          "data": {
            "text/plain": [
              "'Etiket\\tSınıf\\n0\\ttişört/üst\\n1\\tpantolon\\n2\\tKenara çekmek\\n3\\tElbise\\n4\\tKaban\\n5\\tSandalet\\n6\\tGömlek\\n7\\tSpor ayakkabı\\n8\\tÇanta\\n9\\tBilek boyu bot'"
            ],
            "application/vnd.google.colaboratory.intrinsic+json": {
              "type": "string"
            }
          },
          "metadata": {},
          "execution_count": 20
        }
      ]
    },
    {
      "cell_type": "code",
      "source": [
        "\"\"\"Her görüntü tek bir etikete eşlenir. Sınıf adları veri kümesine dahil edilmediğinden, daha sonra\n",
        "görüntüleri çizerken kullanmak üzere bunları burada saklayın:\n",
        "\n",
        "\"\"\"\n",
        "class_names = ['T-shirt/top', 'Trouser', 'Pullover', 'Dress', 'Coat',\n",
        "               'Sandal', 'Shirt', 'Sneaker', 'Bag', 'Ankle boot']"
      ],
      "metadata": {
        "id": "anNLt-LLpu5W"
      },
      "execution_count": 21,
      "outputs": []
    },
    {
      "cell_type": "code",
      "source": [
        "train_images.shape"
      ],
      "metadata": {
        "colab": {
          "base_uri": "https://localhost:8080/"
        },
        "id": "vhHCsHfBqH1I",
        "outputId": "4dd329d7-91b4-439d-dd68-bee9dfaa3676"
      },
      "execution_count": 22,
      "outputs": [
        {
          "output_type": "execute_result",
          "data": {
            "text/plain": [
              "(60000, 28, 28)"
            ]
          },
          "metadata": {},
          "execution_count": 22
        }
      ]
    },
    {
      "cell_type": "code",
      "source": [
        "len(train_labels)"
      ],
      "metadata": {
        "colab": {
          "base_uri": "https://localhost:8080/"
        },
        "id": "zNQU093RqLEw",
        "outputId": "295f3af6-4704-426d-bb32-80cc1391665e"
      },
      "execution_count": 23,
      "outputs": [
        {
          "output_type": "execute_result",
          "data": {
            "text/plain": [
              "60000"
            ]
          },
          "metadata": {},
          "execution_count": 23
        }
      ]
    },
    {
      "cell_type": "code",
      "source": [
        "test_images.shape"
      ],
      "metadata": {
        "colab": {
          "base_uri": "https://localhost:8080/"
        },
        "id": "CLlVZ3bYqOcl",
        "outputId": "9a2d3918-1d88-47da-ca0f-e3eff93d87f8"
      },
      "execution_count": 24,
      "outputs": [
        {
          "output_type": "execute_result",
          "data": {
            "text/plain": [
              "(10000, 28, 28)"
            ]
          },
          "metadata": {},
          "execution_count": 24
        }
      ]
    },
    {
      "cell_type": "code",
      "source": [
        "len(test_labels)"
      ],
      "metadata": {
        "colab": {
          "base_uri": "https://localhost:8080/"
        },
        "id": "lP_XDibEqRht",
        "outputId": "9a5e0c9e-2c4f-49e7-d59a-a5d420be6556"
      },
      "execution_count": 25,
      "outputs": [
        {
          "output_type": "execute_result",
          "data": {
            "text/plain": [
              "10000"
            ]
          },
          "metadata": {},
          "execution_count": 25
        }
      ]
    },
    {
      "cell_type": "markdown",
      "source": [
        "**Verileri önceden işleyin**\n",
        "\n",
        "### Ağı eğitmeden önce veriler önceden işlenmelidir. Eğitim setindeki ilk görüntüyü incelerseniz piksel değerlerinin 0 ile 255 aralığında olduğunu göreceksiniz:"
      ],
      "metadata": {
        "id": "N4-yfqMcqTsj"
      }
    },
    {
      "cell_type": "code",
      "source": [
        "plt.figure()\n",
        "plt.imshow(train_images[0])\n",
        "plt.colorbar() # renk sayılarını gösteren bar\n",
        "plt.grid(False)\n",
        "plt.show()"
      ],
      "metadata": {
        "colab": {
          "base_uri": "https://localhost:8080/",
          "height": 430
        },
        "id": "l35lPFxbqoJ_",
        "outputId": "9db5734b-9ba3-4f88-fe81-43d3b2e86ba8"
      },
      "execution_count": 26,
      "outputs": [
        {
          "output_type": "display_data",
          "data": {
            "text/plain": [
              "<Figure size 640x480 with 2 Axes>"
            ],
            "image/png": "[encoded data removed]"
          },
          "metadata": {}
        }
      ]
    },
    {
      "cell_type": "markdown",
      "source": [
        "### Sinir ağı modeline beslemeden önce bu değerleri 0 ile 1 arasında ölçeklendirin. Bunu yapmak için değerleri 255'e bölün. Eğitim setinin ve test setinin aynı şekilde ön işleme tabi tutulması önemlidir:\n",
        "\n"
      ],
      "metadata": {
        "id": "5zvEoq5MrOCP"
      }
    },
    {
      "cell_type": "code",
      "source": [
        "train_images = train_images / 255.0\n",
        "test_images = test_images / 255.0\n"
      ],
      "metadata": {
        "id": "qVEA6CYCrlTN"
      },
      "execution_count": 27,
      "outputs": []
    },
    {
      "cell_type": "markdown",
      "source": [
        "### Verilerin doğru formatta olduğunu ve ağı kurmaya ve eğitmeye hazır olduğunuzu doğrulamak için, eğitim setinden ilk 25 görüntüyü görüntüleyelim ve her görüntünün altında sınıf adını görüntüleyelim."
      ],
      "metadata": {
        "id": "L3RFoHUBr7_N"
      }
    },
    {
      "cell_type": "code",
      "source": [
        "plt.figure(figsize=(10,10))\n",
        "for i in range(25):\n",
        "  plt.subplot(5,5, i+1)\n",
        "  plt.xticks([])\n",
        "  plt.yticks([])\n",
        "  plt.imshow(train_images[i], cmap=plt.cm.binary)\n",
        "  plt.xlabel(class_names[test_labels[i]])\n",
        "plt.show()"
      ],
      "metadata": {
        "colab": {
          "base_uri": "https://localhost:8080/",
          "height": 826
        },
        "id": "l2sZPCbssCV6",
        "outputId": "f710db3b-946e-4e16-dc88-a258206eb399"
      },
      "execution_count": 45,
      "outputs": [
        {
          "output_type": "display_data",
          "data": {
            "text/plain": [
              "<Figure size 1000x1000 with 25 Axes>"
            ],
            "image/png": "[encoded data removed]"
          },
          "metadata": {}
        }
      ]
    },
    {
      "cell_type": "markdown",
      "source": [
        "### Modeli oluşturun\n",
        "Sinir ağının oluşturulması, modelin katmanlarının yapılandırılmasını ve ardından modelin derlenmesini gerektirir.\n",
        "\n",
        "Katmanları ayarlayın\n",
        "Bir sinir ağının temel yapı taşı katmandır . Katmanlar, kendilerine beslenen verilerden temsilleri çıkarır. Umarım, bu temsiller eldeki sorun için anlamlıdır.\n",
        "\n",
        "Derin öğrenmenin çoğu, basit katmanları birbirine zincirlemekten oluşur. tf.keras.layers.Dense gibi çoğu katman, eğitim sırasında öğrenilen parametrelere sahiptir."
      ],
      "metadata": {
        "id": "N3lfLFWRu4-Q"
      }
    },
    {
      "cell_type": "code",
      "source": [
        "model = tf.keras.Sequential([\n",
        "    tf.keras.layers.Flatten(input_shape=(28, 28)),\n",
        "    tf.keras.layers.Dense(128, activation = 'relu'),\n",
        "    tf.keras.layers.Dense(10)\n",
        "])"
      ],
      "metadata": {
        "id": "oC4OeFU8tffw"
      },
      "execution_count": 34,
      "outputs": []
    },
    {
      "cell_type": "markdown",
      "source": [
        "Bu ağdaki ilk katman olan tf.keras.layers.Flatten , görüntülerin formatını iki boyutlu bir diziden (28 x 28 piksel) tek boyutlu bir diziye (28 * 28 = 784 piksel) dönüştürür. Bu katmanı, görüntüdeki piksel sıralarını kaldırmak ve bunları hizalamak olarak düşünün. Bu katmanın öğrenilecek parametresi yoktur; yalnızca verileri yeniden biçimlendirir.\n",
        "\n",
        "Pikseller düzleştirildikten sonra ağ, iki tf.keras.layers.Dense katmanından oluşan bir diziden oluşur. Bunlar yoğun şekilde bağlı veya tamamen bağlı sinir katmanlarıdır. İlk Dense katmanda 128 düğüm (veya nöron) bulunur. İkinci (ve son) katman, 10 uzunluğunda bir logits dizisi döndürür. Her düğüm, geçerli görüntünün 10 sınıftan birine ait olduğunu gösteren bir puan içerir."
      ],
      "metadata": {
        "id": "DeYGULrrv6tp"
      }
    },
    {
      "cell_type": "markdown",
      "source": [
        "### **Modeli derleyin**\n",
        "\n",
        "Model eğitime hazır olmadan önce birkaç ayara daha ihtiyacı var. Bunlar, modelin derleme adımı sırasında eklenir:\n",
        "\n",
        "\n",
        "Optimizer (Optimize Edici): optimizer='adam' ile belirtilmiştir. Optimize edici, modelin öğrenme sürecini yöneten bir algoritmadır. 'Adam', adaptif moment tahmini (Adaptive Moment Estimation) algoritmasını temsil eder ve genellikle gradient tabanlı optimizasyon problemlerinde etkili olan popüler bir optimizasyon algoritmasıdır. Adam, gradient iniş algoritmalarından biridir ve genellikle hızlı ve etkili bir şekilde işler.\n",
        "\n",
        "Loss Function (Kayıp Fonksiyonu): loss=tf.keras.losses.SparseCategoricalCrossentropy(from_logits=True) ile belirtilmiştir. Kayıp fonksiyonu, modelin tahminlerinin gerçek etiketlerden ne kadar uzak olduğunu ölçer. SparseCategoricalCrossentropy, çok sınıflı sınıflandırma problemleri için kullanılan bir kayıp fonksiyonudur. from_logits=True parametresi, modelin çıktılarının doğrudan modelin son katmanından geldiğini belirtir.\n",
        "\n",
        "Metrics (Metrikler): metrics=['accuracy'] ile belirtilmiştir. Metrikler, modelin performansını ölçmek için kullanılan ölçümlerdir. Burada, sınıflandırma doğruluğu (accuracy) metriği kullanılır. Doğruluk, modelin doğru sınıflandırma yüzdesini gösterir.\n",
        "\n"
      ],
      "metadata": {
        "id": "aprbkJJMv-ff"
      }
    },
    {
      "cell_type": "markdown",
      "source": [
        "### **Modeli eğit**"
      ],
      "metadata": {
        "id": "kN4nx2YUymOH"
      }
    },
    {
      "cell_type": "code",
      "source": [
        "model.compile(optimizer='adam',\n",
        "              loss=tf.keras.losses.SparseCategoricalCrossentropy(from_logits=True),\n",
        "              metrics=['accuracy'])"
      ],
      "metadata": {
        "id": "sQYvBFIuxED_"
      },
      "execution_count": 35,
      "outputs": []
    },
    {
      "cell_type": "code",
      "source": [
        "model.fit(train_images, train_labels, epochs=10)"
      ],
      "metadata": {
        "colab": {
          "base_uri": "https://localhost:8080/"
        },
        "id": "LxhYHJdVxk9V",
        "outputId": "78fce144-aefe-4794-e302-c3053ada01ca"
      },
      "execution_count": 36,
      "outputs": [
        {
          "output_type": "stream",
          "name": "stdout",
          "text": [
            "Epoch 1/10\n",
            "1875/1875 [==============================] - 14s 7ms/step - loss: 0.4981 - accuracy: 0.8254\n",
            "Epoch 2/10\n",
            "1875/1875 [==============================] - 10s 5ms/step - loss: 0.3708 - accuracy: 0.8667\n",
            "Epoch 3/10\n",
            "1875/1875 [==============================] - 8s 4ms/step - loss: 0.3369 - accuracy: 0.8783\n",
            "Epoch 4/10\n",
            "1875/1875 [==============================] - 10s 5ms/step - loss: 0.3110 - accuracy: 0.8866\n",
            "Epoch 5/10\n",
            "1875/1875 [==============================] - 10s 6ms/step - loss: 0.2953 - accuracy: 0.8905\n",
            "Epoch 6/10\n",
            "1875/1875 [==============================] - 9s 5ms/step - loss: 0.2785 - accuracy: 0.8976\n",
            "Epoch 7/10\n",
            "1875/1875 [==============================] - 8s 4ms/step - loss: 0.2671 - accuracy: 0.9022\n",
            "Epoch 8/10\n",
            "1875/1875 [==============================] - 8s 5ms/step - loss: 0.2572 - accuracy: 0.9048\n",
            "Epoch 9/10\n",
            "1875/1875 [==============================] - 10s 5ms/step - loss: 0.2476 - accuracy: 0.9082\n",
            "Epoch 10/10\n",
            "1875/1875 [==============================] - 7s 4ms/step - loss: 0.2378 - accuracy: 0.9112\n"
          ]
        },
        {
          "output_type": "execute_result",
          "data": {
            "text/plain": [
              "<keras.src.callbacks.History at 0x7c603c880610>"
            ]
          },
          "metadata": {},
          "execution_count": 36
        }
      ]
    },
    {
      "cell_type": "markdown",
      "source": [
        "Model ilerlerken, kayıp ve doğruluk metrikleri görüntülenir. Bu model, eğitim verilerinde yaklaşık 0.91 (veya %91) doğruluğa ulaşır."
      ],
      "metadata": {
        "id": "AUZaPeCYyajQ"
      }
    },
    {
      "cell_type": "markdown",
      "source": [
        "### Doğruluğu değerlendirin\n",
        "Ardından, modelin test veri kümesinde nasıl performans gösterdiğini karşılaştırın:"
      ],
      "metadata": {
        "id": "pT-igX3OyhNf"
      }
    },
    {
      "cell_type": "markdown",
      "source": [
        "`test_images`: Test veri seti içindeki görüntülerden oluşan bir dizi.\n",
        "\n",
        "`test_labels`: Test veri setindeki görüntülerin etiketlerinden oluşan bir dizi.\n",
        "\n",
        "`verbose`: Opsiyonel bir parametredir ve çıktının ayrıntısını belirler.\n",
        "\n",
        "0, sadece ilerleme çubuğunu gösterirken, 1 (varsayılan değer) ayrıntılı ilerleme çıktısı sağlar ve 2, ilerlemenin çıktısını kapatır.\n",
        "Bu satır, modelin test verileri üzerinde değerlendirilmesini gerçekleştirir ve iki değer döndürür:\n",
        "\n",
        "`test_loss`: Test veri seti üzerindeki kayıp değeri. Kayıp değeri, modelin test verileri üzerinde ne kadar başarılı olduğunu belirtir. Daha düşük kayıp değerleri, modelin daha iyi performans gösterdiğini gösterir.\n",
        "\n",
        "`test_acc`: Test veri seti üzerindeki doğruluk (accuracy) değeri. Doğruluk, modelin test verileri üzerindeki doğru sınıflandırma yüzdesini gösterir. Daha yüksek doğruluk değerleri, modelin daha iyi performans gösterdiğini gösterir."
      ],
      "metadata": {
        "id": "Cqg8YQ-AztTY"
      }
    },
    {
      "cell_type": "code",
      "source": [
        "test_loss, test_acc = model.evaluate(test_images, test_labels, verbose=2)\n",
        "print(\"Test accuracy:\",test_acc)"
      ],
      "metadata": {
        "colab": {
          "base_uri": "https://localhost:8080/"
        },
        "id": "7EAxC4UTzZm_",
        "outputId": "9e221f53-2fa6-46ff-f528-4723e2974944"
      },
      "execution_count": 38,
      "outputs": [
        {
          "output_type": "stream",
          "name": "stdout",
          "text": [
            "313/313 - 1s - loss: 0.3382 - accuracy: 0.8822 - 1s/epoch - 4ms/step\n",
            "Test accuracy: 0.8822000026702881\n"
          ]
        }
      ]
    },
    {
      "cell_type": "markdown",
      "source": [
        "Test veri setindeki doğruluğun, eğitim veri setindeki doğruluktan biraz daha az olduğu ortaya çıktı. Eğitim doğruluğu ve test doğruluğu arasındaki bu boşluk, fazla uydurmayı temsil eder. Bir makine öğrenimi modeli, yeni, daha önce görülmemiş girdilerde eğitim verilerinde olduğundan daha kötü performans gösterdiğinde, aşırı uyum gerçekleşir. Fazla takılan bir model, eğitim veri kümesindeki gürültüyü ve ayrıntıları, modelin yeni veriler üzerindeki performansını olumsuz yönde etkileyecek bir noktaya \"belleğe alır\"."
      ],
      "metadata": {
        "id": "LPkMdNR104Lj"
      }
    },
    {
      "cell_type": "markdown",
      "source": [
        "### **tahminlerde bulunun**\n",
        "Eğitilen model ile bazı görüntüler hakkında tahminler yapmak için kullanabilirsiniz. Modelin doğrusal çıktılarını - logitleri - yorumlaması daha kolay olması gereken olasılıklara dönüştürmek için bir softmax katmanı ekleyin."
      ],
      "metadata": {
        "id": "3uY-0EWl0b3U"
      }
    },
    {
      "cell_type": "code",
      "source": [
        "probability_model = tf.keras.Sequential([\n",
        "    model,\n",
        "    tf.keras.layers.Softmax()\n",
        "])"
      ],
      "metadata": {
        "id": "0naLbqyI1xy0"
      },
      "execution_count": 39,
      "outputs": []
    },
    {
      "cell_type": "code",
      "source": [
        "predictions = probability_model.predict(test_images)\n"
      ],
      "metadata": {
        "colab": {
          "base_uri": "https://localhost:8080/"
        },
        "id": "CpH8Bf9z2DSV",
        "outputId": "d50c37bd-86f4-462c-f978-12d406718343"
      },
      "execution_count": 40,
      "outputs": [
        {
          "output_type": "stream",
          "name": "stdout",
          "text": [
            "313/313 [==============================] - 1s 2ms/step\n"
          ]
        }
      ]
    },
    {
      "cell_type": "code",
      "source": [
        "predictions[0]"
      ],
      "metadata": {
        "colab": {
          "base_uri": "https://localhost:8080/"
        },
        "id": "PWqafYcZ2Lto",
        "outputId": "3411dfd8-238d-4308-8828-57b2961c1125"
      },
      "execution_count": 41,
      "outputs": [
        {
          "output_type": "execute_result",
          "data": {
            "text/plain": [
              "array([3.0864651e-08, 5.1277196e-09, 6.3905425e-08, 6.9839773e-10,\n",
              "       2.1140249e-07, 4.8010321e-03, 2.0700678e-07, 1.1973223e-02,\n",
              "       2.2237504e-08, 9.8322517e-01], dtype=float32)"
            ]
          },
          "metadata": {},
          "execution_count": 41
        }
      ]
    },
    {
      "cell_type": "code",
      "source": [
        "np.argmax(predictions[0])"
      ],
      "metadata": {
        "colab": {
          "base_uri": "https://localhost:8080/"
        },
        "id": "blmK6Iad2PxJ",
        "outputId": "aad1bb55-fd9e-4ae3-f852-5148c239e694"
      },
      "execution_count": 42,
      "outputs": [
        {
          "output_type": "execute_result",
          "data": {
            "text/plain": [
              "9"
            ]
          },
          "metadata": {},
          "execution_count": 42
        }
      ]
    },
    {
      "cell_type": "code",
      "source": [
        "test_labels[0]"
      ],
      "metadata": {
        "colab": {
          "base_uri": "https://localhost:8080/"
        },
        "id": "qhouC_wJ2VEa",
        "outputId": "8b27ab34-1226-4717-b36e-88fcd47da4c8"
      },
      "execution_count": 43,
      "outputs": [
        {
          "output_type": "execute_result",
          "data": {
            "text/plain": [
              "9"
            ]
          },
          "metadata": {},
          "execution_count": 43
        }
      ]
    },
    {
      "cell_type": "markdown",
      "source": [
        "Bu nedenle model, bu görüntünün bir ayak bileği botu veya class_names[9] olduğundan en çok emindir. Test etiketinin incelenmesi, bu sınıflandırmanın doğru olduğunu gösterir:"
      ],
      "metadata": {
        "id": "SUBh5jIl2bDv"
      }
    },
    {
      "cell_type": "code",
      "source": [],
      "metadata": {
        "id": "k1Cn8jJZ2dvP"
      },
      "execution_count": null,
      "outputs": []
    }
  ]
}